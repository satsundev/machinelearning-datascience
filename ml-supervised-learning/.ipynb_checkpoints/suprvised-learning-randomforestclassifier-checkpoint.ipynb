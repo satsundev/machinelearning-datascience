{
 "cells": [
  {
   "cell_type": "code",
   "execution_count": 2,
   "id": "204386c9",
   "metadata": {},
   "outputs": [],
   "source": [
    "#get the data ready\n",
    "import pandas as pd\n",
    "import numpy as np\n",
    "import warnings\n",
    "heart_disease = pd.read_csv(\"data/heart-disease.csv\");\n",
    "warnings.filterwarnings(\"ignore\")"
   ]
  },
  {
   "cell_type": "code",
   "execution_count": 3,
   "id": "b510bfe1",
   "metadata": {},
   "outputs": [],
   "source": [
    "#Create X feature matrix\n",
    "X = heart_disease.drop(\"target\", axis=1)\n",
    "\n",
    "#Create Y label or result\n",
    "Y = heart_disease[\"target\"]\n"
   ]
  },
  {
   "cell_type": "code",
   "execution_count": null,
   "id": "4301cb6f",
   "metadata": {},
   "outputs": [],
   "source": [
    "# here going to use RandomForestClassifier algorithm\n",
    "from sklearn.ensemble import RandomForestClassifier\n",
    "clf = RandomForestClassifier()\n",
    "clf.get_params()"
   ]
  },
  {
   "cell_type": "code",
   "execution_count": null,
   "id": "c16525a7",
   "metadata": {},
   "outputs": [],
   "source": [
    "# split our data into test(80%) and train(20%) for feature matrix X and result Y\n",
    "from sklearn.model_selection import train_test_split\n",
    "\n",
    "X_train, X_test, Y_train, Y_test = train_test_split(X, Y, test_size=0.2)\n"
   ]
  },
  {
   "cell_type": "code",
   "execution_count": null,
   "id": "3f63ee3a",
   "metadata": {},
   "outputs": [],
   "source": [
    "clf.fit(X_train, Y_train)"
   ]
  },
  {
   "cell_type": "code",
   "execution_count": null,
   "id": "93b75472",
   "metadata": {},
   "outputs": [],
   "source": [
    "Y_preds = clf.predict(X_test)\n",
    "Y_preds"
   ]
  },
  {
   "cell_type": "code",
   "execution_count": null,
   "id": "1a3f8aa0",
   "metadata": {},
   "outputs": [],
   "source": [
    "clf.score(X_train, Y_train)"
   ]
  },
  {
   "cell_type": "code",
   "execution_count": null,
   "id": "2a0ab21a",
   "metadata": {},
   "outputs": [],
   "source": [
    "clf.score(X_test, Y_test)"
   ]
  },
  {
   "cell_type": "code",
   "execution_count": null,
   "id": "4afd98af",
   "metadata": {},
   "outputs": [],
   "source": [
    "from sklearn.metrics import classification_report, confusion_matrix, accuracy_score\n",
    "\n",
    "print(classification_report(Y_test, Y_preds))"
   ]
  },
  {
   "cell_type": "code",
   "execution_count": null,
   "id": "a3829157",
   "metadata": {},
   "outputs": [],
   "source": [
    "print(confusion_matrix(Y_test, Y_preds))"
   ]
  },
  {
   "cell_type": "code",
   "execution_count": null,
   "id": "564ae296",
   "metadata": {},
   "outputs": [],
   "source": [
    "print(accuracy_score(Y_test, Y_preds))"
   ]
  },
  {
   "cell_type": "code",
   "execution_count": null,
   "id": "a4ccb50b",
   "metadata": {},
   "outputs": [],
   "source": [
    "# try different amount of n_estimators\n",
    "np.random.seed(42)\n",
    "for i in range(10, 100, 10):\n",
    "    print(f\"Trying Model with {i} estimators...\")\n",
    "    clf=RandomForestClassifier(n_estimators=i).fit(X_train, Y_train)\n",
    "    print(f\"Model accuracy on test set: {clf.score(X_test, Y_test) * 100:.2f}%\")\n",
    "    print(\"\")"
   ]
  },
  {
   "cell_type": "code",
   "execution_count": null,
   "id": "0de1e18b",
   "metadata": {},
   "outputs": [],
   "source": [
    "# save the model and load it\n",
    "import pickle\n",
    "\n",
    "pickle.dump(clf, open(\"suprvised-learning-randomforestclassifier.pkl\", \"wb\"))"
   ]
  },
  {
   "cell_type": "code",
   "execution_count": 59,
   "id": "4cf98b2f",
   "metadata": {},
   "outputs": [
    {
     "data": {
      "text/plain": [
       "0.8032786885245902"
      ]
     },
     "execution_count": 59,
     "metadata": {},
     "output_type": "execute_result"
    }
   ],
   "source": [
    "loaded_model = pickle.load(open(\"suprvised-learning-randomforestclassifier.pkl\", \"rb\"))\n",
    "loaded_model.score(X_test, Y_test)"
   ]
  }
 ],
 "metadata": {
  "kernelspec": {
   "display_name": "Python 3 (ipykernel)",
   "language": "python",
   "name": "python3"
  },
  "language_info": {
   "codemirror_mode": {
    "name": "ipython",
    "version": 3
   },
   "file_extension": ".py",
   "mimetype": "text/x-python",
   "name": "python",
   "nbconvert_exporter": "python",
   "pygments_lexer": "ipython3",
   "version": "3.11.3"
  }
 },
 "nbformat": 4,
 "nbformat_minor": 5
}
